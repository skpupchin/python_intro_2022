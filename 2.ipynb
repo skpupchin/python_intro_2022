{
 "cells": [
  {
   "cell_type": "markdown",
   "metadata": {},
   "source": [
    "## Домашнее задание - Библиотека numpy\n",
    "\n",
    "Подпишите этот блокнот: укажите ФИО и номер группы. Выполненное задание загрузите в свой репозиторий «<b>Python_Introduction_2022</b>» в github \n",
    "\n",
    "Перед выполнением этого домашнего задания полезно прочитать про возможности и основные методы библиотеки numpy:  \n",
    "http://acm.mipt.ru/twiki/bin/view/Cintro/PythonNumpy  \n"
   ]
  },
  {
   "cell_type": "markdown",
   "metadata": {},
   "source": [
    "1.\tСоздайте равномерное разбиение интервала от -1.3 до 2.5 на 64 отрезка."
   ]
  },
  {
   "cell_type": "code",
   "execution_count": 2,
   "metadata": {},
   "outputs": [
    {
     "name": "stdout",
     "output_type": "stream",
     "text": [
      "[-1.3      -1.240625 -1.18125  -1.121875 -1.0625   -1.003125 -0.94375\n",
      " -0.884375 -0.825    -0.765625 -0.70625  -0.646875 -0.5875   -0.528125\n",
      " -0.46875  -0.409375 -0.35     -0.290625 -0.23125  -0.171875 -0.1125\n",
      " -0.053125  0.00625   0.065625  0.125     0.184375  0.24375   0.303125\n",
      "  0.3625    0.421875  0.48125   0.540625  0.6       0.659375  0.71875\n",
      "  0.778125  0.8375    0.896875  0.95625   1.015625  1.075     1.134375\n",
      "  1.19375   1.253125  1.3125    1.371875  1.43125   1.490625  1.55\n",
      "  1.609375  1.66875   1.728125  1.7875    1.846875  1.90625   1.965625\n",
      "  2.025     2.084375  2.14375   2.203125  2.2625    2.321875  2.38125\n",
      "  2.440625]\n"
     ]
    }
   ],
   "source": [
    "import numpy as np\n",
    "\n",
    "shift = (1.3 + 2.5)/64.0\n",
    "a = np.arange(-1.3, 2.5, shift)\n",
    "print(a)\n"
   ]
  },
  {
   "cell_type": "markdown",
   "metadata": {},
   "source": [
    "2.\tСгенерируйте numpy массив длины $3n$, заполненный циклически числами 1, 2, 3, 1, 2, 3, 1...."
   ]
  },
  {
   "cell_type": "code",
   "execution_count": 13,
   "metadata": {},
   "outputs": [
    {
     "name": "stdout",
     "output_type": "stream",
     "text": [
      "[1. 2. 3. 1. 2. 3. 1. 2. 3. 1. 2. 3. 1. 2. 3. 1. 2. 3. 1. 2. 3. 1. 2. 3.\n",
      " 1. 2. 3. 1. 2. 3. 1. 2. 3. 1. 2. 3. 1. 2. 3.]\n"
     ]
    }
   ],
   "source": [
    "\n",
    "b = np.array([])\n",
    "n = 13\n",
    "for i in range(3*n):\n",
    "    b = np.append(b, 1 + i%3)\n",
    "print(b)"
   ]
  },
  {
   "cell_type": "markdown",
   "metadata": {},
   "source": [
    "3.\tСоздайте массив первых 10 нечетных целых чисел."
   ]
  },
  {
   "cell_type": "code",
   "execution_count": 22,
   "metadata": {},
   "outputs": [
    {
     "name": "stdout",
     "output_type": "stream",
     "text": [
      "[ 1.  3.  5.  7.  9. 11. 13. 15. 17. 19.]\n"
     ]
    }
   ],
   "source": [
    "a3 = np.array([])\n",
    "for i in range (10):\n",
    "    a3 = np.append(a3, 1 + 2*i)\n",
    "print(a3)\n",
    "    \n",
    "    "
   ]
  },
  {
   "cell_type": "markdown",
   "metadata": {},
   "source": [
    "4.  Создайте массив нулей размера 10 x 10, а затем создайте в нём \"рамку\" из единиц по краям."
   ]
  },
  {
   "cell_type": "code",
   "execution_count": 34,
   "metadata": {},
   "outputs": [
    {
     "name": "stdout",
     "output_type": "stream",
     "text": [
      "[[0. 0. 0. 0. 0. 0. 0. 0. 0. 0.]\n",
      " [0. 0. 0. 0. 0. 0. 0. 0. 0. 0.]\n",
      " [0. 0. 0. 0. 0. 0. 0. 0. 0. 0.]\n",
      " [0. 0. 0. 0. 0. 0. 0. 0. 0. 0.]\n",
      " [0. 0. 0. 0. 0. 0. 0. 0. 0. 0.]\n",
      " [0. 0. 0. 0. 0. 0. 0. 0. 0. 0.]\n",
      " [0. 0. 0. 0. 0. 0. 0. 0. 0. 0.]\n",
      " [0. 0. 0. 0. 0. 0. 0. 0. 0. 0.]\n",
      " [0. 0. 0. 0. 0. 0. 0. 0. 0. 0.]\n",
      " [0. 0. 0. 0. 0. 0. 0. 0. 0. 0.]]\n",
      "\n",
      "\n",
      "[[1. 1. 1. 1. 1. 1. 1. 1. 1. 1.]\n",
      " [1. 0. 0. 0. 0. 0. 0. 0. 0. 1.]\n",
      " [1. 0. 0. 0. 0. 0. 0. 0. 0. 1.]\n",
      " [1. 0. 0. 0. 0. 0. 0. 0. 0. 1.]\n",
      " [1. 0. 0. 0. 0. 0. 0. 0. 0. 1.]\n",
      " [1. 0. 0. 0. 0. 0. 0. 0. 0. 1.]\n",
      " [1. 0. 0. 0. 0. 0. 0. 0. 0. 1.]\n",
      " [1. 0. 0. 0. 0. 0. 0. 0. 0. 1.]\n",
      " [1. 0. 0. 0. 0. 0. 0. 0. 0. 1.]\n",
      " [1. 1. 1. 1. 1. 1. 1. 1. 1. 1.]]\n"
     ]
    }
   ],
   "source": [
    "a4 = np.zeros((10,10))\n",
    "print(a4)\n",
    "print('\\n')\n",
    "for j in range(10):\n",
    "    a4[0,j]=1\n",
    "    a4[9,j]=1\n",
    "    a4[j,0]=1\n",
    "    a4[j,9]=1\n",
    "print(a4)\n"
   ]
  },
  {
   "cell_type": "markdown",
   "metadata": {},
   "source": [
    "5.  Создайте массив 8 x 8 с шахматной доской из нулей и единиц."
   ]
  },
  {
   "cell_type": "code",
   "execution_count": 46,
   "metadata": {},
   "outputs": [
    {
     "name": "stdout",
     "output_type": "stream",
     "text": [
      "[[0. 1. 0. 1. 0. 1. 0. 1.]\n",
      " [1. 0. 1. 0. 1. 0. 1. 0.]\n",
      " [0. 1. 0. 1. 0. 1. 0. 1.]\n",
      " [1. 0. 1. 0. 1. 0. 1. 0.]\n",
      " [0. 1. 0. 1. 0. 1. 0. 1.]\n",
      " [1. 0. 1. 0. 1. 0. 1. 0.]\n",
      " [0. 1. 0. 1. 0. 1. 0. 1.]\n",
      " [1. 0. 1. 0. 1. 0. 1. 0.]]\n"
     ]
    }
   ],
   "source": [
    "a5 = np.zeros((8,8))\n",
    "for i in range (8):\n",
    "    for j in range (8):\n",
    "        if (i+j)%2 == 1:\n",
    "            a5[i,j] = 1\n",
    "    \n",
    "    \n",
    "print(a5)"
   ]
  },
  {
   "cell_type": "markdown",
   "metadata": {},
   "source": [
    "6.  Создайте функцию, которая создает $n×n$ матрицу с $(i,j)$-элементом, равным $i+j$."
   ]
  },
  {
   "cell_type": "code",
   "execution_count": 48,
   "metadata": {},
   "outputs": [
    {
     "name": "stdout",
     "output_type": "stream",
     "text": [
      "[[ 0.  1.  2.  3.  4.  5.]\n",
      " [ 1.  2.  3.  4.  5.  6.]\n",
      " [ 2.  3.  4.  5.  6.  7.]\n",
      " [ 3.  4.  5.  6.  7.  8.]\n",
      " [ 4.  5.  6.  7.  8.  9.]\n",
      " [ 5.  6.  7.  8.  9. 10.]]\n"
     ]
    }
   ],
   "source": [
    "n = 6\n",
    "a6 = np.zeros((n,n))\n",
    "for i in range (n):\n",
    "    for j in range (n):\n",
    "        a6[i,j] = i+j\n",
    "    \n",
    "print(a6)"
   ]
  },
  {
   "cell_type": "markdown",
   "metadata": {},
   "source": [
    "7. Примените функцию dot для перемножения вектор на вектор, матрицу на вектор и матрицу на матрицу."
   ]
  },
  {
   "cell_type": "code",
   "execution_count": 3,
   "metadata": {},
   "outputs": [
    {
     "name": "stdout",
     "output_type": "stream",
     "text": [
      "[6. 6. 6.]\n",
      "0\n",
      "[[1. 1. 1.]\n",
      " [1. 1. 1.]\n",
      " [1. 1. 1.]]\n"
     ]
    }
   ],
   "source": [
    "A = np.ones((3,3))\n",
    "x = np.array([1,2,3])\n",
    "print(np.dot(A,x))\n",
    "y = np.array([2, -1, 0])\n",
    "print (np.dot(x,y))\n",
    "B = np.array([y,y,y])\n",
    "print (np.dot(B,A))\n"
   ]
  },
  {
   "cell_type": "markdown",
   "metadata": {},
   "source": [
    "8. Вычислите cos(x) и sin(x) на интервале [0,1] с шагом $0.05$, а затем объедините оба массива чисел как строки в один массив."
   ]
  },
  {
   "cell_type": "code",
   "execution_count": 58,
   "metadata": {},
   "outputs": [
    {
     "name": "stdout",
     "output_type": "stream",
     "text": [
      "[0.73893776 0.73893844 0.73894049 0.73894392 0.73894873 0.73895493\n",
      " 0.73896253 0.73897153 0.73898193 0.73899369 0.73900678 0.73902114\n",
      " 0.7390367  0.73905332 0.73907087 0.73908919 0.73910806 0.73912726\n",
      " 0.73914656 0.73916569 0.         0.04958827 0.09681871 0.13983724\n",
      " 0.17757071 0.20971494 0.23653338 0.25860943 0.27664526 0.29133441\n",
      " 0.30329781 0.31306129 0.32105593 0.32762846 0.33305499 0.33755435\n",
      " 0.34129981 0.34442873 0.34705035 0.34925179]\n"
     ]
    }
   ],
   "source": [
    "a8 = np.arange(0,1,0.05)\n",
    "for i in a8:\n",
    "    a8 = np.cos(a8)\n",
    "b8 = np.arange(0,1,0.05)\n",
    "for i in b8:\n",
    "    b8 = np.sin(b8)\n",
    "    \n",
    "c8 = np.append(a8,b8)\n",
    "print(c8)"
   ]
  },
  {
   "cell_type": "markdown",
   "metadata": {},
   "source": [
    "9. Создайте матрицу $A$ размера $3×5$ из случайных чисел с равномерным распределением на отрезке $[-1,3]$ (используйте np.random.rand)"
   ]
  },
  {
   "cell_type": "code",
   "execution_count": 4,
   "metadata": {},
   "outputs": [
    {
     "name": "stdout",
     "output_type": "stream",
     "text": [
      "[[ 2.54585237  0.98661538  2.97214126  1.79741075  2.46821285]\n",
      " [ 1.64369344  0.08371399 -0.83709811  2.38031333  0.98316841]\n",
      " [ 0.41793353  2.14078406 -0.91449495  1.22179341 -0.32188376]]\n"
     ]
    }
   ],
   "source": [
    "A = np.random.rand(3,5)\n",
    "A = 4*A - 1\n",
    "\n",
    "print(A)"
   ]
  },
  {
   "cell_type": "markdown",
   "metadata": {},
   "source": [
    "10. Найдите сумму всех элементов, сумму внутри строк, сумму внутри столбцов, а также среднее значение, дисперсию и стандартное отклонение чисел для каждой строки матрицы $A$. (Подобно тому, как sorted имеет необязательный аргумент key=, многие функции Numpy имеют необязательный аргумент axis=)\n"
   ]
  },
  {
   "cell_type": "code",
   "execution_count": 12,
   "metadata": {},
   "outputs": [
    {
     "name": "stdout",
     "output_type": "stream",
     "text": [
      "sum =  17.568155933946002\n",
      "the sum of 1, 2, 3 rows is equal to  10.77023260366132 4.253791049514755 2.5441322807699263\n",
      "the sum of 1, 2, 3, 4, 5 collums is equal to \n",
      "4.607479328932002\n",
      "3.2111134309307596\n",
      "1.2205481923579402\n",
      "5.399517484714261\n",
      "3.129497497011038\n",
      "\n",
      "\n",
      "2.154046520732264\n",
      "0.8507582099029509\n",
      "0.5088264561539853\n",
      "\n",
      " variance: \n",
      "\n",
      "0.48231516562231247\n",
      "\n",
      " standard deviation: \n",
      "\n",
      "1.2846066786736983\n",
      "\n",
      " standard deviation: \n",
      "\n",
      "1.179158459154737\n",
      "\n",
      " standard deviation: \n",
      "\n",
      "0.6944891400319464\n",
      "1.1334049049980763\n",
      "1.0858906294626256\n"
     ]
    }
   ],
   "source": [
    "sum = 0\n",
    "for number in A:\n",
    "    sum += number\n",
    "print('sum = ', np.sum(A))\n",
    "print( 'the sum of 1, 2, 3 rows is equal to ', np.sum(A[0]), np.sum(A[1]), np.sum(A[2])) #сумма строк\n",
    "\n",
    "A = np.transpose(A)\n",
    "print( 'the sum of 1, 2, 3, 4, 5 collums is equal to ')\n",
    "\n",
    "for i in range (5):     #сумма столбцов\n",
    "    print(np.sum(A[i]))\n",
    "    \n",
    "print('\\n')\n",
    "    \n",
    "A = np.transpose(A) \n",
    "\n",
    "for i in range(3):    #среднее строк\n",
    "    print(np.mean(A[i]))\n",
    "    \n",
    "print(\"\\n variance: \\n\")\n",
    "\n",
    "for i in range (3):      #дисперсия\n",
    "    print (np.var(A[i]))\n",
    "\n",
    "    print(\"\\nstandard deviation: \\n\")\n",
    "    \n",
    "for i in range (3):\n",
    "    print (np.std(A[i]))\n"
   ]
  },
  {
   "cell_type": "markdown",
   "metadata": {},
   "source": [
    "11.  Отнимите от каждого элемента матрицы $A$ среднее по строке и поделите на стандартное отклонение строки."
   ]
  },
  {
   "cell_type": "code",
   "execution_count": 20,
   "metadata": {},
   "outputs": [
    {
     "name": "stdout",
     "output_type": "stream",
     "text": [
      "[[-0.88676374 -1.33553986  0.15664396  0.6936449   1.4090449 ]\n",
      " [-0.22541081 -0.85296237 -1.15732223  1.50554952  0.77024967]\n",
      " [-0.46488483  1.15858044 -1.42303505  1.12636087 -0.38390708]]\n"
     ]
    }
   ],
   "source": [
    "for i in range (3):\n",
    "    for j in range (5):\n",
    "        A[i,j] = (A[i,j] - np.mean(A[i]))/np.std(A[i])\n",
    "print(A)"
   ]
  },
  {
   "cell_type": "markdown",
   "metadata": {},
   "source": [
    "12. Отсортируйте матрицу $A$ по 3-ому столбцу, т.е. поменяйте местами строки матрицы так, чтобы 3-й столбец оказался отсортированным. Используйте для этого slicing + argsort + indexing."
   ]
  },
  {
   "cell_type": "code",
   "execution_count": null,
   "metadata": {
    "collapsed": true
   },
   "outputs": [],
   "source": []
  },
  {
   "cell_type": "markdown",
   "metadata": {},
   "source": [
    "13. Посчитайте две матрицы: $B = A^TA$ и $C = AA^T$. Что вы можете о них сказать? Какого они размера? В чём их сходство и отличие?"
   ]
  },
  {
   "cell_type": "code",
   "execution_count": 26,
   "metadata": {},
   "outputs": [
    {
     "name": "stdout",
     "output_type": "stream",
     "text": [
      "[[ 1.05327787  0.8379688   0.78351416 -1.47809436 -1.24463996]\n",
      " [ 0.8379688   3.85352016 -0.87075251 -0.90558783 -2.98361685]\n",
      " [ 0.78351416 -0.87075251  3.38896084 -3.23660165 -0.12439546]\n",
      " [-1.47809436 -0.90558783 -3.23660165  4.01651141  1.70460791]\n",
      " [-1.24463996 -2.98361685 -0.12439546  1.70460791  2.72607673]]\n",
      "\n",
      " [[ 5.06110477  3.28739695 -1.11764504]\n",
      " [ 3.28739695  4.9777135   2.16356242]\n",
      " [-1.11764504  2.16356242  4.99952874]]\n"
     ]
    }
   ],
   "source": [
    "B = np.dot(np.transpose(A),A)\n",
    "print(B)\n",
    "C = np.dot(A, np.transpose(A))\n",
    "print ('\\n', C)"
   ]
  },
  {
   "cell_type": "markdown",
   "metadata": {},
   "source": [
    "14. Найдите сумму диагональных элементов матриц $B$ и $C$."
   ]
  },
  {
   "cell_type": "code",
   "execution_count": 28,
   "metadata": {},
   "outputs": [
    {
     "name": "stdout",
     "output_type": "stream",
     "text": [
      "15.038347012898283 15.038347012898281\n"
     ]
    }
   ],
   "source": [
    "print(np.trace(B), np.trace(C))"
   ]
  },
  {
   "cell_type": "markdown",
   "metadata": {},
   "source": [
    "15.\tПосчитайте детерминант и ранг матриц $A$, $B$ и $C$, посмотрите на спектр (набор собственных значений) матриц $B$ и $C$, какие выводы вы можете сделать?  \n",
    "(подсказка: используйте готовые функции из библиотеки np.linalg). \n"
   ]
  },
  {
   "cell_type": "code",
   "execution_count": null,
   "metadata": {
    "collapsed": true
   },
   "outputs": [],
   "source": [
    "print(np.linalg.det(A))\n",
    "print(np.linalg.det(B))\n",
    "print(np.linalg.det(C))\n",
    "print(np.linalg.matrix_rank(A),np.linalg.eigh(A))\n",
    "print(np.linalg.matrix_rank(B),np.linalg.eigh(B))\n",
    "print(np.linalg.matrix_rank(C),np.linalg.eigh(C))"
   ]
  },
  {
   "cell_type": "markdown",
   "metadata": {},
   "source": [
    "16. Численно посчитать определённый интеграл  3-мя методами:  \n",
    "a)\tПрямоугольников $\\int\\limits_a^b {f(x)dx \\approx \\Delta x\\sum\\limits_{k = 0}^N {f({x_k})} }$  \n",
    "b)\tТрапеций $\\int\\limits_a^b {f(x)dx \\approx \\frac{{\\Delta x}}{2}\\left( {f({x_0}) + 2\\sum\\limits_{k = 1}^{N - 1} {f({x_k})}  + f({x_N})} \\right)}$  \n",
    "c)\tПо правилу Симпсона  $\\int\\limits_a^b {f(x)dx \\approx \\frac{{\\Delta x}}{3}\\left( {f({x_0}) + 2\\sum\\limits_{k = 1}^{N/2 - 1} {f({x_{2k}})}  + 4\\sum\\limits_{k = 1}^{N/2} {f({x_{2k - 1}})}  + f({x_N})} \\right)}$  \n",
    "\n",
    "\n",
    "В реализации этих методов цикл for для суммирования использовать нельзя.  \n",
    "Нужно посчитать значение интеграла с некоторым шагом интегрирования (например начать с 0.1), потом уменьшить его в десять раз и ещё раз посчитать и так до тех пор пока отличие в ответах будет в 5-м знаке после запятой, т.е. чтобы ошибка была меньше 1e-5. Получить ответы для 3-х разных методов и сделать соответствующие выводы.  \n",
    "\n",
    "Далее необходимо сравнить полученные оценки с аналитическим решением (т.е. формульным, которое вы должны сами посчитать на листочке и вбить формулу-ответ).   \n",
    "\n",
    "В качестве интеграла взять один из следующих с номером, сгенерированным случайным образом с помощью функции np.random.randint(10), в качестве seed для генератора случайных чисел взять номер своего студенческого билета.\n",
    "\n",
    "<table width=\"80%\"\n",
    "       align=\"center\">\n",
    "    <tr>\n",
    "        <td> 0) $\\int\\limits_3^4 {\\frac{{{x^2} + 3}}{{x - 2}}dx}$ </td>\n",
    "        <td> 1) $\\int\\limits_{ - 2}^{ - 1} {\\frac{{x + 1}}{{{x^3} - {x^2}}}dx}$ </td>\n",
    "        <td> 2) $\\int\\limits_1^2 {\\frac{{{e^{1/{x^2}}}}}{{{x^3}}}dx}$ </td>\n",
    "        <td> 3) $\\int\\limits_1^e {\\frac{{\\cos (\\ln x)}}{x}dx}$ </td>\n",
    "        <td> 4) $\\int\\limits_1^e {\\frac{{dx}}{{x(1 + {{\\ln }^2}x)}}}$ </td>\n",
    "    </tr>                \n",
    "    <tr>\n",
    "        <td> 5) $\\int\\limits_0^{\\pi /2} {{{\\cos }^3}\\alpha \\;d\\alpha }$ </td>\n",
    "        <td> 6) $\\int\\limits_0^{1/3} {c{h^2}3x\\;dx}$ </td>\n",
    "        <td> 7) $\\int\\limits_2^3 {\\frac{{dy}}{{{y^2} - 2y - 8}}dy}$ </td>\n",
    "        <td> 8) $\\int\\limits_{3/4}^2 {\\frac{{dx}}{{\\sqrt {2 + 3x - 2{x^2}} }}}$ </td>\n",
    "        <td> 9) $\\int\\limits_0^2 {\\frac{{2x - 1}}{{2x + 1}}dx}$ </td>\n",
    "        </tr>\n",
    "</table>"
   ]
  },
  {
   "cell_type": "code",
   "execution_count": 66,
   "metadata": {},
   "outputs": [
    {
     "name": "stdout",
     "output_type": "stream",
     "text": [
      "true value =  0.3905620875658997 \n",
      "\n",
      "thirst ************************\n",
      "\n",
      "dx = 0.1 difference =  0.08318693198607319 \n",
      "\n",
      "dx = 0.001 difference =  8.000320000001171e-05 \n",
      "\n",
      "dx = 0.00001 difference =  8.00003199996624e-06 \n",
      "\n",
      "second ************************\n",
      "\n",
      "dx = 0.1 difference =  0.06235359865273987 \n",
      "\n",
      "dx = 0.001 difference =  6.0002399968062115e-05 \n",
      "\n",
      "dx = 0.00001 difference =  6.0000239999191685e-06 \n",
      "\n",
      "third ************************\n",
      "\n",
      "dx = 0.1 difference =  0.03828559155875355 \n",
      "\n",
      "dx = 0.001 difference =  3.9998399850693644e-05 \n",
      "\n",
      "dx = 0.00001 difference =  3.999983999802836e-06 \n",
      "\n"
     ]
    }
   ],
   "source": [
    "np.random.seed(1032216507)\n",
    "np.random.randint(10)\n",
    "\n",
    "ans = 2 - np.log(5)\n",
    "print(\"true value = \", ans, \"\\n\")\n",
    "\n",
    "\n",
    "dx_1 = 0.1 \n",
    "dx_2 = 0.01\n",
    "dx_2 = 0.001\n",
    "dx_3 = 0.0001\n",
    "dx_4 = 0.00001\n",
    "dx_5 = 0.000001\n",
    "\n",
    "def f(x):\n",
    "    return ((2*x - 1) / (2*x + 1))\n",
    "\n",
    "g = np.vectorize(f)\n",
    "# first method\n",
    "    #first try\n",
    "print (\"thirst ************************\\n\")\n",
    "\n",
    "a = g(np.arange(0, 2, dx_1))\n",
    "res_1 = (a.sum() * dx_1)\n",
    "#print (res_1)\n",
    "print (\"dx = 0.1 difference = \",np.abs(ans - res_1), \"\\n\" )\n",
    "\n",
    "\n",
    "a = g(np.arange(0, 2, dx_3))\n",
    "res_3 = (a.sum() * dx_3)\n",
    "#print (res_3)\n",
    "print (\"dx = 0.001 difference = \",np.abs(ans - res_3), \"\\n\" )\n",
    "\n",
    "     #success\n",
    "a = g(np.arange(0, 2, dx_4))\n",
    "res_4 = (a.sum() * dx_4)\n",
    "#print (res_3)\n",
    "print (\"dx = 0.00001 difference = \",np.abs(ans - res_4), \"\\n\" )\n",
    "\n",
    "\n",
    "#second method \n",
    "print (\"second ************************\\n\")\n",
    "a = g(np.arange(0, 2, dx_1))\n",
    "res_1 = (dx_1/2)*( a[0] + a [-1] + 2*(a.sum() - a[0] - a[-1]))\n",
    "print (\"dx = 0.1 difference = \",np.abs(ans - res_1), \"\\n\" )\n",
    "\n",
    "a = g(np.arange(0, 2, dx_3))\n",
    "res_3 = (dx_3/2)*( a[0] + a [-1] + 2*(a.sum() - a[0] - a[-1]))\n",
    "print (\"dx = 0.001 difference = \",np.abs(ans - res_3), \"\\n\" )\n",
    "\n",
    "a = g(np.arange(0, 2, dx_4))\n",
    "res_4 = (dx_4/2)*( a[0] + a [-1] + 2*(a.sum() - a[0] - a[-1]))\n",
    "print (\"dx = 0.00001 difference = \",np.abs(ans - res_4), \"\\n\" )\n",
    "\n",
    "\n",
    "# third method \n",
    "print (\"third ************************\\n\")\n",
    "a = g(np.arange(0, 2, dx_1))\n",
    "odd = a.reshape(-1, 2)[:,1]\n",
    "even = a.reshape(-1, 2)[:,0]\n",
    "res_1 = (dx_1/3)*(a[0] + a[-1] + 2*(even.sum() - even[0] - even[-1]) + 4*(odd.sum() ))\n",
    "print (\"dx = 0.1 difference = \",np.abs(ans - res_1), \"\\n\" )\n",
    "\n",
    "a = g(np.arange(0, 2, dx_3))\n",
    "odd = a.reshape(-1, 2)[:,1]\n",
    "even = a.reshape(-1, 2)[:,0]\n",
    "res_3 = (dx_3/3)*(a[0] + a[-1] + 2*(even.sum() - even[0] - even[-1]) + 4*(odd.sum() ))\n",
    "print (\"dx = 0.001 difference = \",np.abs(ans - res_3), \"\\n\" )\n",
    "\n",
    "a = g(np.arange(0, 2, dx_4))\n",
    "odd = a.reshape(-1, 2)[:,1]\n",
    "even = a.reshape(-1, 2)[:,0]\n",
    "res_4 = (dx_4/3)*(a[0] + a[-1] + 2*(even.sum() - even[0] - even[-1]) + 4*(odd.sum() ))\n",
    "print (\"dx = 0.00001 difference = \",np.abs(ans - res_4), \"\\n\" )\n",
    "\n"
   ]
  },
  {
   "cell_type": "code",
   "execution_count": null,
   "metadata": {
    "collapsed": true
   },
   "outputs": [],
   "source": []
  }
 ],
 "metadata": {
  "kernelspec": {
   "display_name": "Python 3",
   "language": "python",
   "name": "python3"
  },
  "language_info": {
   "codemirror_mode": {
    "name": "ipython",
    "version": 3
   },
   "file_extension": ".py",
   "mimetype": "text/x-python",
   "name": "python",
   "nbconvert_exporter": "python",
   "pygments_lexer": "ipython3",
   "version": "3.6.1"
  }
 },
 "nbformat": 4,
 "nbformat_minor": 4
}
